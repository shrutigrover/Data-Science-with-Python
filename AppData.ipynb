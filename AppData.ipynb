{
 "cells": [
  {
   "cell_type": "markdown",
   "metadata": {},
   "source": [
    "## Develop Relevant Apps \n",
    "### Analyse Android and iOS mobile apps data and explore opportunities to guide app development \n",
    "___\n"
   ]
  },
  {
   "cell_type": "markdown",
   "metadata": {},
   "source": [
    "### Introduction\n",
    "\n",
    "The goal of this project is to use fundamental data analysis techniques and drive insights from the existing Android and iOS apps data. The insights are used to help a company that builds mobile apps such that the development of the type of apps is more focussed and profit driven.\n",
    "\n",
    "To achieve our goal, we extract the **kind of apps that have maximum user traction and hence are more profitable to the company.** The data used is extracted from the **Google Play Store [Link](https://www.kaggle.com/lava18/google-play-store-apps) and Apple Store [Link](https://www.kaggle.com/ramamet4/app-store-apple-data-set-10k-apps).**\n",
    "\n",
    "We found that .....\n",
    "\n",
    "___"
   ]
  },
  {
   "cell_type": "markdown",
   "metadata": {},
   "source": [
    "Let's start by exploring the dataset:"
   ]
  },
  {
   "cell_type": "code",
   "execution_count": 4,
   "metadata": {
    "collapsed": false
   },
   "outputs": [],
   "source": [
    "#open data set, read and store as a list of lists\n",
    "from csv import reader\n",
    "open_apps_data = open('AppleStore.csv')\n",
    "read_apps_data = reader(open_apps_data)\n",
    "apps_data = list(read_apps_data)\n",
    "\n",
    "open_play_data = open('googleplaystore.csv')\n",
    "read_play_data = reader(open_play_data)\n",
    "play_data = list(read_play_data)"
   ]
  },
  {
   "cell_type": "markdown",
   "metadata": {},
   "source": [
    "We will define a function `explore_data` that will have parmaters including the dataset, start and end index, and an optional parameter to show the number of rows and columns. \n",
    "\n",
    "The functions prints useful information such as Number of rows and columns in our dataset and the rows information from start to end index."
   ]
  },
  {
   "cell_type": "code",
   "execution_count": 5,
   "metadata": {
    "collapsed": true
   },
   "outputs": [],
   "source": [
    "#explore datasets\n",
    "def explore_data(dataset, start, end, rows_and_columns=False):\n",
    "    dataset_slice = dataset[start:end]    \n",
    "    for row in dataset_slice:\n",
    "        print(row)\n",
    "        print('\\n') # adds a new (empty) line after each row\n",
    "\n",
    "    if rows_and_columns:\n",
    "        print('Number of rows:', len(dataset))\n",
    "        print('Number of columns:', len(dataset[0]))"
   ]
  },
  {
   "cell_type": "markdown",
   "metadata": {},
   "source": [
    "Explore iOS apps data:"
   ]
  },
  {
   "cell_type": "code",
   "execution_count": 6,
   "metadata": {
    "collapsed": false
   },
   "outputs": [
    {
     "name": "stdout",
     "output_type": "stream",
     "text": [
      "['id', 'track_name', 'size_bytes', 'currency', 'price', 'rating_count_tot', 'rating_count_ver', 'user_rating', 'user_rating_ver', 'ver', 'cont_rating', 'prime_genre', 'sup_devices.num', 'ipadSc_urls.num', 'lang.num', 'vpp_lic']\n",
      "\n",
      "\n",
      "['284882215', 'Facebook', '389879808', 'USD', '0.0', '2974676', '212', '3.5', '3.5', '95.0', '4+', 'Social Networking', '37', '1', '29', '1']\n",
      "\n",
      "\n",
      "['389801252', 'Instagram', '113954816', 'USD', '0.0', '2161558', '1289', '4.5', '4.0', '10.23', '12+', 'Photo & Video', '37', '0', '29', '1']\n",
      "\n",
      "\n",
      "['529479190', 'Clash of Clans', '116476928', 'USD', '0.0', '2130805', '579', '4.5', '4.5', '9.24.12', '9+', 'Games', '38', '5', '18', '1']\n",
      "\n",
      "\n",
      "Number of rows: 7198\n",
      "Number of columns: 16\n"
     ]
    }
   ],
   "source": [
    "explore_data(apps_data, 0, 4, True)"
   ]
  },
  {
   "cell_type": "markdown",
   "metadata": {},
   "source": [
    "Explore PlayStore apps data:"
   ]
  },
  {
   "cell_type": "code",
   "execution_count": 7,
   "metadata": {
    "collapsed": false
   },
   "outputs": [
    {
     "name": "stdout",
     "output_type": "stream",
     "text": [
      "['App', 'Category', 'Rating', 'Reviews', 'Size', 'Installs', 'Type', 'Price', 'Content Rating', 'Genres', 'Last Updated', 'Current Ver', 'Android Ver']\n",
      "\n",
      "\n",
      "['Photo Editor & Candy Camera & Grid & ScrapBook', 'ART_AND_DESIGN', '4.1', '159', '19M', '10,000+', 'Free', '0', 'Everyone', 'Art & Design', 'January 7, 2018', '1.0.0', '4.0.3 and up']\n",
      "\n",
      "\n",
      "['Coloring book moana', 'ART_AND_DESIGN', '3.9', '967', '14M', '500,000+', 'Free', '0', 'Everyone', 'Art & Design;Pretend Play', 'January 15, 2018', '2.0.0', '4.0.3 and up']\n",
      "\n",
      "\n",
      "['U Launcher Lite – FREE Live Cool Themes, Hide Apps', 'ART_AND_DESIGN', '4.7', '87510', '8.7M', '5,000,000+', 'Free', '0', 'Everyone', 'Art & Design', 'August 1, 2018', '1.2.4', '4.0.3 and up']\n",
      "\n",
      "\n",
      "Number of rows: 10842\n",
      "Number of columns: 13\n"
     ]
    }
   ],
   "source": [
    "explore_data(play_data, 0, 4, True)"
   ]
  },
  {
   "cell_type": "markdown",
   "metadata": {},
   "source": [
    "Print Column names of both datasets"
   ]
  },
  {
   "cell_type": "code",
   "execution_count": 8,
   "metadata": {
    "collapsed": false
   },
   "outputs": [
    {
     "name": "stdout",
     "output_type": "stream",
     "text": [
      "Play Store columns:\n",
      "['App', 'Category', 'Rating', 'Reviews', 'Size', 'Installs', 'Type', 'Price', 'Content Rating', 'Genres', 'Last Updated', 'Current Ver', 'Android Ver']\n",
      "\n",
      "\n",
      "Apple Store columns:\n",
      "['id', 'track_name', 'size_bytes', 'currency', 'price', 'rating_count_tot', 'rating_count_ver', 'user_rating', 'user_rating_ver', 'ver', 'cont_rating', 'prime_genre', 'sup_devices.num', 'ipadSc_urls.num', 'lang.num', 'vpp_lic']\n",
      "\n",
      "\n"
     ]
    }
   ],
   "source": [
    "#Column Names \n",
    "print(\"Play Store columns:\")\n",
    "explore_data(play_data, 0, 1)\n",
    "\n",
    "print(\"Apple Store columns:\")\n",
    "explore_data(apps_data, 0, 1)"
   ]
  },
  {
   "cell_type": "markdown",
   "metadata": {},
   "source": [
    "### Data Cleaning\n",
    "\n",
    "Below we perform data pre-processing tasks.\n",
    "___"
   ]
  },
  {
   "cell_type": "markdown",
   "metadata": {},
   "source": [
    "##### Remove Missing Data - \n",
    "From discussions [Link](https://www.kaggle.com/lava18/google-play-store-apps/discussion/66015), we observed that one of the values in one column indexed at `10473`(index is not `10472` as our data includes header) is missing, hence removing that row such that it does not affect our data analysis process. "
   ]
  },
  {
   "cell_type": "code",
   "execution_count": 9,
   "metadata": {
    "collapsed": false
   },
   "outputs": [
    {
     "name": "stdout",
     "output_type": "stream",
     "text": [
      "13\n",
      "12\n"
     ]
    }
   ],
   "source": [
    "#Check if there is missing data - row 10473 has missing data\n",
    "print(len(play_data[0]))\n",
    "print(len(play_data[10473]))"
   ]
  },
  {
   "cell_type": "markdown",
   "metadata": {},
   "source": [
    "As the length of row `10473` is less than the actual length of other rows, it confirms that the row has a missing data, hence deleting the row below:"
   ]
  },
  {
   "cell_type": "code",
   "execution_count": 10,
   "metadata": {
    "collapsed": true
   },
   "outputs": [],
   "source": [
    "del play_data[10473]"
   ]
  },
  {
   "cell_type": "markdown",
   "metadata": {},
   "source": [
    "### Handle duplicate data in PlayStore app\n",
    "The data contains multiple rows for the same app. To handle this we will remove duplicate rows by creating a filtered list with unique apps data."
   ]
  },
  {
   "cell_type": "code",
   "execution_count": 11,
   "metadata": {
    "collapsed": false
   },
   "outputs": [
    {
     "name": "stdout",
     "output_type": "stream",
     "text": [
      "Number of duplicate apps:  1181\n",
      "Example of duplicate apps:  ['Quick PDF Scanner + OCR FREE', 'Box', 'Google My Business']\n",
      "Duplicate rows with same app name 'Box' :\n",
      "['Box', 'BUSINESS', '4.2', '159872', 'Varies with device', '10,000,000+', 'Free', '0', 'Everyone', 'Business', 'July 31, 2018', 'Varies with device', 'Varies with device']\n",
      "['Box', 'BUSINESS', '4.2', '159872', 'Varies with device', '10,000,000+', 'Free', '0', 'Everyone', 'Business', 'July 31, 2018', 'Varies with device', 'Varies with device']\n",
      "['Box', 'BUSINESS', '4.2', '159872', 'Varies with device', '10,000,000+', 'Free', '0', 'Everyone', 'Business', 'July 31, 2018', 'Varies with device', 'Varies with device']\n",
      "\n",
      "\n",
      "Duplicate rows with same app name 'Instagram' :\n",
      "['Instagram', 'SOCIAL', '4.5', '66577313', 'Varies with device', '1,000,000,000+', 'Free', '0', 'Teen', 'Social', 'July 31, 2018', 'Varies with device', 'Varies with device']\n",
      "['Instagram', 'SOCIAL', '4.5', '66577446', 'Varies with device', '1,000,000,000+', 'Free', '0', 'Teen', 'Social', 'July 31, 2018', 'Varies with device', 'Varies with device']\n",
      "['Instagram', 'SOCIAL', '4.5', '66577313', 'Varies with device', '1,000,000,000+', 'Free', '0', 'Teen', 'Social', 'July 31, 2018', 'Varies with device', 'Varies with device']\n",
      "['Instagram', 'SOCIAL', '4.5', '66509917', 'Varies with device', '1,000,000,000+', 'Free', '0', 'Teen', 'Social', 'July 31, 2018', 'Varies with device', 'Varies with device']\n"
     ]
    }
   ],
   "source": [
    "#Check if duplicate rows exist\n",
    "duplicate_apps = []\n",
    "unique_apps = []\n",
    "\n",
    "for app in play_data[1:]: #start with index 1 to not include header at index 0\n",
    "    name = app[0]\n",
    "    if name in unique_apps:\n",
    "        duplicate_apps.append(name)\n",
    "    else:\n",
    "        unique_apps.append(name)\n",
    "\n",
    "print(\"Number of duplicate apps: \", len(duplicate_apps))\n",
    "print(\"Example of duplicate apps: \", duplicate_apps[:3])\n",
    "\n",
    "print(\"Duplicate rows with same app name 'Box' :\")\n",
    "for app in play_data[1:]:\n",
    "    #printing duplicate rows with same app name Box\n",
    "    if app[0] == 'Box':\n",
    "        print(app)\n",
    "print(\"\\n\")\n",
    "print(\"Duplicate rows with same app name 'Instagram' :\")\n",
    "for app in play_data[1:]:\n",
    "    #printing duplicate rows with same app name Box\n",
    "    if app[0] == 'Instagram':\n",
    "        print(app)"
   ]
  },
  {
   "cell_type": "markdown",
   "metadata": {},
   "source": [
    "From the above, it can be seen that there are 1181 row entries that are duplicate.\n",
    "**Criteria to remove duplicates**:\n",
    "1. For apps such as Instagram the 'Reviews' have different values in the duplicate rows, hence the reviews with maximum value can be the latest reviews and this row can be retained and others can be deleted.\n",
    "2. However, for apps that have exactly same information such as 'Box' printed above, we can remove all except one.\n",
    "\n",
    "Both of the above cases will be handled by the below code where we keep the maximum review entry and delete the rest."
   ]
  },
  {
   "cell_type": "code",
   "execution_count": 12,
   "metadata": {
    "collapsed": false
   },
   "outputs": [
    {
     "name": "stdout",
     "output_type": "stream",
     "text": [
      "9659\n"
     ]
    }
   ],
   "source": [
    "#find the entry with max reviews and store in dictionary {name:review}\n",
    "reviews_max = {}\n",
    "for app in play_data[1:]:\n",
    "    name = app[0]\n",
    "    n_reviews = float(app[3])\n",
    "    if name in reviews_max and reviews_max[name] < n_reviews:\n",
    "        reviews_max[name] = n_reviews\n",
    "    elif name not in reviews_max:\n",
    "        reviews_max[name] = n_reviews\n",
    "        \n",
    "print(len(reviews_max))"
   ]
  },
  {
   "cell_type": "code",
   "execution_count": 13,
   "metadata": {
    "collapsed": false
   },
   "outputs": [
    {
     "name": "stdout",
     "output_type": "stream",
     "text": [
      "9659\n"
     ]
    }
   ],
   "source": [
    "# remove duplicates using review_max dictionary\n",
    "android_clean = []\n",
    "already_added = []\n",
    "for app in play_data[1:]:\n",
    "    name = app[0]\n",
    "    n_reviews = float(app[3])\n",
    "    if name not in already_added and n_reviews == reviews_max[name]:\n",
    "        already_added.append(name)\n",
    "        android_clean.append(app)\n",
    "        \n",
    "print(len(android_clean))"
   ]
  },
  {
   "cell_type": "markdown",
   "metadata": {},
   "source": [
    "### Remove non-english apps \n",
    "As our company developes English apps, there is no use of analysing data of non-english apps, hence we will filter only the english apps and store in a list. We will define a function that will return False if more than 3 characters in the app name doesn't belong to english alphabet."
   ]
  },
  {
   "cell_type": "code",
   "execution_count": 17,
   "metadata": {
    "collapsed": true
   },
   "outputs": [],
   "source": [
    "def check_english(name):\n",
    "    count = 0\n",
    "    for char in name:\n",
    "        if ord(char) > 127: #The ASCII values of greater than 127 means non-english alphabet\n",
    "            count+=1\n",
    "            if count > 3:\n",
    "                return False\n",
    "    return True"
   ]
  },
  {
   "cell_type": "code",
   "execution_count": 18,
   "metadata": {
    "collapsed": false
   },
   "outputs": [
    {
     "name": "stdout",
     "output_type": "stream",
     "text": [
      "Rows remaining in playstore data: 9614\n",
      "Rows remaining in app store data: 6183\n"
     ]
    }
   ],
   "source": [
    "#filter non-english apps from both datasets\n",
    "play_data_eng = []\n",
    "for app in android_clean:\n",
    "    if check_english(app[0]):\n",
    "        play_data_eng.append(app)\n",
    "        \n",
    "app_data_eng = []\n",
    "for app in apps_data[1:]:\n",
    "    if check_english(app[1]):\n",
    "        app_data_eng.append(app)\n",
    "        \n",
    "print(\"Rows remaining in playstore data:\", len(play_data_eng))\n",
    "print(\"Rows remaining in app store data:\", len(app_data_eng))"
   ]
  },
  {
   "cell_type": "markdown",
   "metadata": {},
   "source": [
    "### Filter free apps \n",
    "As the company only builds free apps, main source of income is in-app ads. Currently dataset contains both free and non-free apps, thus we filter free apps. "
   ]
  },
  {
   "cell_type": "code",
   "execution_count": 19,
   "metadata": {
    "collapsed": false
   },
   "outputs": [
    {
     "name": "stdout",
     "output_type": "stream",
     "text": [
      "8863\n",
      "3222\n"
     ]
    }
   ],
   "source": [
    "free_apps_play = []\n",
    "\n",
    "for app in play_data_eng:\n",
    "    price = app[6] #Using the Type column having 2 values - 'Free' and 'Paid'\n",
    "    if price == 'Free':\n",
    "        free_apps_play.append(app)\n",
    "\n",
    "free_apps_apple = []\n",
    "\n",
    "for app in app_data_eng:\n",
    "    price = float(app[4])\n",
    "    if price == 0.0:\n",
    "        free_apps_apple.append(app)\n",
    "        \n",
    "print(len(free_apps_play))\n",
    "print(len(free_apps_apple))\n",
    "    "
   ]
  },
  {
   "cell_type": "markdown",
   "metadata": {},
   "source": [
    "After the cleaning process: We are left with 8863 Android apps and 3222 iOS apps for analysis. Let's go ahead and analyse.\n",
    "___"
   ]
  },
  {
   "cell_type": "markdown",
   "metadata": {},
   "source": [
    "## Analysis\n",
    "**Validation strategy for an App :**\n",
    "1. Build a minimal Android version of the app, and add it to Google Play.\n",
    "2. If the app has a good response from users, we develop it further.\n",
    "3. If the app is profitable after six months, we build an iOS version of the app and add it to the App Store.\n",
    "\n",
    "Our end goal is to add the app on both Google Play and the App Store, therefore we will find app profiles that are successful on both markets.\n",
    "\n",
    "We will start by seeing the most common genres that exist in each market.\n"
   ]
  },
  {
   "cell_type": "code",
   "execution_count": 20,
   "metadata": {
    "collapsed": true
   },
   "outputs": [],
   "source": [
    "# freq_table function will return the freq distribution of a given column in the dataset\n",
    "def freq_table(dataset, index):\n",
    "    freq = {}\n",
    "    for data in dataset:\n",
    "        param = data[index]\n",
    "        if param in freq:\n",
    "            freq[param] += 1\n",
    "        else:\n",
    "            freq[param] = 1\n",
    "    \n",
    "    for f in freq:\n",
    "        freq[f] = (freq[f]*100)/len(dataset)\n",
    "    return freq\n",
    "        \n",
    "#display_table will call freq_dist function to show the frequency ia list format    \n",
    "def display_table(dataset, index):\n",
    "    table = freq_table(dataset, index)\n",
    "    table_display = []\n",
    "    for key in table:\n",
    "        key_val_as_tuple = (table[key], key)\n",
    "        table_display.append(key_val_as_tuple)\n",
    "\n",
    "    table_sorted = sorted(table_display, reverse = True)\n",
    "    for entry in table_sorted:\n",
    "        print(entry[1], ':', entry[0])"
   ]
  },
  {
   "cell_type": "markdown",
   "metadata": {},
   "source": [
    "We will display the frequency distribution of Genre in PlayStore and iOS apps with the help of above functions.\n",
    "For Playstore apps there are two columns of importance - Category and Genre. \n",
    "\n",
    "As per [Link](https://www.kaggle.com/lava18/google-play-store-apps), the difference is that an app can belong to multiple genres (apart from its main category). For eg, a musical family game will belong to Music, Game, Family genres."
   ]
  },
  {
   "cell_type": "code",
   "execution_count": 21,
   "metadata": {
    "collapsed": false
   },
   "outputs": [
    {
     "name": "stdout",
     "output_type": "stream",
     "text": [
      "Category in Play dataset:\n",
      "FAMILY : 18.8987927338373\n",
      "GAME : 9.725826469592688\n",
      "TOOLS : 8.462146000225657\n",
      "BUSINESS : 4.592124562789123\n",
      "LIFESTYLE : 3.9038700214374367\n",
      "PRODUCTIVITY : 3.8925871601038025\n",
      "FINANCE : 3.700778517432021\n",
      "MEDICAL : 3.5315355974275078\n",
      "SPORTS : 3.3961412614238973\n",
      "PERSONALIZATION : 3.317161232088458\n",
      "COMMUNICATION : 3.2381812027530184\n",
      "HEALTH_AND_FITNESS : 3.0802211440821394\n",
      "PHOTOGRAPHY : 2.944826808078529\n",
      "NEWS_AND_MAGAZINES : 2.798149610741284\n",
      "SOCIAL : 2.6627552747376733\n",
      "TRAVEL_AND_LOCAL : 2.335552296062281\n",
      "SHOPPING : 2.2452894053932075\n",
      "BOOKS_AND_REFERENCE : 2.1437436533904997\n",
      "DATING : 1.8616721200496447\n",
      "VIDEO_PLAYERS : 1.7939749520478394\n",
      "MAPS_AND_NAVIGATION : 1.399074805370642\n",
      "FOOD_AND_DRINK : 1.241114746699763\n",
      "EDUCATION : 1.1621347173643235\n",
      "ENTERTAINMENT : 0.9590432133589079\n",
      "LIBRARIES_AND_DEMO : 0.9364774906916394\n",
      "AUTO_AND_VEHICLES : 0.9251946293580052\n",
      "HOUSE_AND_HOME : 0.8236488773552973\n",
      "WEATHER : 0.8010831546880289\n",
      "EVENTS : 0.7108202640189553\n",
      "PARENTING : 0.6544059573507841\n",
      "ART_AND_DESIGN : 0.6431230960171499\n",
      "COMICS : 0.6205573733498815\n",
      "BEAUTY : 0.5979916506826131\n"
     ]
    }
   ],
   "source": [
    "print(\"Category in Play dataset:\")\n",
    "display_table(free_apps_play, 1)"
   ]
  },
  {
   "cell_type": "code",
   "execution_count": 22,
   "metadata": {
    "collapsed": false,
    "scrolled": false
   },
   "outputs": [
    {
     "name": "stdout",
     "output_type": "stream",
     "text": [
      "Genres in Play dataset:\n",
      "Tools : 8.450863138892023\n",
      "Entertainment : 6.070179397495205\n",
      "Education : 5.348076272142615\n",
      "Business : 4.592124562789123\n",
      "Productivity : 3.8925871601038025\n",
      "Lifestyle : 3.8925871601038025\n",
      "Finance : 3.700778517432021\n",
      "Medical : 3.5315355974275078\n",
      "Sports : 3.4638384294257025\n",
      "Personalization : 3.317161232088458\n",
      "Communication : 3.2381812027530184\n",
      "Action : 3.102786866749408\n",
      "Health & Fitness : 3.0802211440821394\n",
      "Photography : 2.944826808078529\n",
      "News & Magazines : 2.798149610741284\n",
      "Social : 2.6627552747376733\n",
      "Travel & Local : 2.324269434728647\n",
      "Shopping : 2.2452894053932075\n",
      "Books & Reference : 2.1437436533904997\n",
      "Simulation : 2.042197901387792\n",
      "Dating : 1.8616721200496447\n",
      "Arcade : 1.8503892587160105\n",
      "Video Players & Editors : 1.771409229380571\n",
      "Casual : 1.7601263680469368\n",
      "Maps & Navigation : 1.399074805370642\n",
      "Food & Drink : 1.241114746699763\n",
      "Puzzle : 1.1282861333634209\n",
      "Racing : 0.9928917973598105\n",
      "Role Playing : 0.9364774906916394\n",
      "Libraries & Demo : 0.9364774906916394\n",
      "Auto & Vehicles : 0.9251946293580052\n",
      "Strategy : 0.9026289066907368\n",
      "House & Home : 0.8236488773552973\n",
      "Weather : 0.8010831546880289\n",
      "Events : 0.7108202640189553\n",
      "Adventure : 0.6769716800180525\n",
      "Comics : 0.6092745120162473\n",
      "Beauty : 0.5979916506826131\n",
      "Art & Design : 0.5979916506826131\n",
      "Parenting : 0.49644589867990524\n",
      "Card : 0.4513144533453684\n",
      "Casino : 0.4287487306781\n",
      "Trivia : 0.4174658693444658\n",
      "Educational;Education : 0.39490014667719736\n",
      "Board : 0.38361728534356315\n",
      "Educational : 0.37233442400992894\n",
      "Education;Education : 0.33848584000902626\n",
      "Word : 0.2595058106735868\n",
      "Casual;Pretend Play : 0.2369400880063184\n",
      "Music : 0.20309150400541578\n",
      "Racing;Action & Adventure : 0.16924292000451313\n",
      "Puzzle;Brain Games : 0.16924292000451313\n",
      "Entertainment;Music & Video : 0.16924292000451313\n",
      "Casual;Brain Games : 0.1353943360036105\n",
      "Casual;Action & Adventure : 0.1353943360036105\n",
      "Arcade;Action & Adventure : 0.12411147466997631\n",
      "Action;Action & Adventure : 0.10154575200270789\n",
      "Educational;Pretend Play : 0.09026289066907368\n",
      "Simulation;Action & Adventure : 0.07898002933543946\n",
      "Parenting;Education : 0.07898002933543946\n",
      "Entertainment;Brain Games : 0.07898002933543946\n",
      "Board;Brain Games : 0.07898002933543946\n",
      "Parenting;Music & Video : 0.06769716800180525\n",
      "Educational;Brain Games : 0.06769716800180525\n",
      "Casual;Creativity : 0.06769716800180525\n",
      "Art & Design;Creativity : 0.06769716800180525\n",
      "Education;Pretend Play : 0.05641430666817105\n",
      "Role Playing;Pretend Play : 0.04513144533453684\n",
      "Education;Creativity : 0.04513144533453684\n",
      "Role Playing;Action & Adventure : 0.033848584000902626\n",
      "Puzzle;Action & Adventure : 0.033848584000902626\n",
      "Entertainment;Creativity : 0.033848584000902626\n",
      "Entertainment;Action & Adventure : 0.033848584000902626\n",
      "Educational;Creativity : 0.033848584000902626\n",
      "Educational;Action & Adventure : 0.033848584000902626\n",
      "Education;Music & Video : 0.033848584000902626\n",
      "Education;Brain Games : 0.033848584000902626\n",
      "Education;Action & Adventure : 0.033848584000902626\n",
      "Adventure;Action & Adventure : 0.033848584000902626\n",
      "Video Players & Editors;Music & Video : 0.02256572266726842\n",
      "Sports;Action & Adventure : 0.02256572266726842\n",
      "Simulation;Pretend Play : 0.02256572266726842\n",
      "Puzzle;Creativity : 0.02256572266726842\n",
      "Music;Music & Video : 0.02256572266726842\n",
      "Entertainment;Pretend Play : 0.02256572266726842\n",
      "Casual;Education : 0.02256572266726842\n",
      "Board;Action & Adventure : 0.02256572266726842\n",
      "Video Players & Editors;Creativity : 0.01128286133363421\n",
      "Trivia;Education : 0.01128286133363421\n",
      "Travel & Local;Action & Adventure : 0.01128286133363421\n",
      "Tools;Education : 0.01128286133363421\n",
      "Strategy;Education : 0.01128286133363421\n",
      "Strategy;Creativity : 0.01128286133363421\n",
      "Strategy;Action & Adventure : 0.01128286133363421\n",
      "Simulation;Education : 0.01128286133363421\n",
      "Role Playing;Brain Games : 0.01128286133363421\n",
      "Racing;Pretend Play : 0.01128286133363421\n",
      "Puzzle;Education : 0.01128286133363421\n",
      "Parenting;Brain Games : 0.01128286133363421\n",
      "Music & Audio;Music & Video : 0.01128286133363421\n",
      "Lifestyle;Pretend Play : 0.01128286133363421\n",
      "Lifestyle;Education : 0.01128286133363421\n",
      "Health & Fitness;Education : 0.01128286133363421\n",
      "Health & Fitness;Action & Adventure : 0.01128286133363421\n",
      "Entertainment;Education : 0.01128286133363421\n",
      "Communication;Creativity : 0.01128286133363421\n",
      "Comics;Creativity : 0.01128286133363421\n",
      "Casual;Music & Video : 0.01128286133363421\n",
      "Card;Action & Adventure : 0.01128286133363421\n",
      "Books & Reference;Education : 0.01128286133363421\n",
      "Art & Design;Pretend Play : 0.01128286133363421\n",
      "Art & Design;Action & Adventure : 0.01128286133363421\n",
      "Arcade;Pretend Play : 0.01128286133363421\n",
      "Adventure;Education : 0.01128286133363421\n"
     ]
    }
   ],
   "source": [
    "print(\"Genres in Play dataset:\")\n",
    "display_table(free_apps_play, 9)"
   ]
  },
  {
   "cell_type": "code",
   "execution_count": 24,
   "metadata": {
    "collapsed": false
   },
   "outputs": [
    {
     "name": "stdout",
     "output_type": "stream",
     "text": [
      "Genres in Apple dataset:\n",
      "Games : 58.16263190564867\n",
      "Entertainment : 7.883302296710118\n",
      "Photo & Video : 4.9658597144630665\n",
      "Education : 3.6623215394165114\n",
      "Social Networking : 3.2898820608317814\n",
      "Shopping : 2.60707635009311\n",
      "Utilities : 2.5139664804469275\n",
      "Sports : 2.1415270018621975\n",
      "Music : 2.0484171322160147\n",
      "Health & Fitness : 2.017380509000621\n",
      "Productivity : 1.7380509000620732\n",
      "Lifestyle : 1.5828677839851024\n",
      "News : 1.3345747982619491\n",
      "Travel : 1.2414649286157666\n",
      "Finance : 1.1173184357541899\n",
      "Weather : 0.8690254500310366\n",
      "Food & Drink : 0.8069522036002483\n",
      "Reference : 0.5586592178770949\n",
      "Business : 0.5276225946617008\n",
      "Book : 0.4345127250155183\n",
      "Navigation : 0.186219739292365\n",
      "Medical : 0.186219739292365\n",
      "Catalogs : 0.12414649286157665\n"
     ]
    }
   ],
   "source": [
    "print(\"Genres in Apple dataset:\")\n",
    "display_table(free_apps_apple, 11)"
   ]
  },
  {
   "cell_type": "markdown",
   "metadata": {},
   "source": [
    "**Important Observations from the Frequency Distribution of the Apple Store Apps**:\n",
    "* Most Common Genre in Apple Store apps is *Games* (58.16%) followed by *Education* (7.88%). The difference in the number of Games apps and Education apps is huge that shows `Games` dominate the iOS app store market.\n",
    "* Entertainment apps such as `Games`, `Social Networking`, `Shopping` have relatively higher frequency than practical apps such as `Weather`, `Medical`, `Education`.\n",
    "\n",
    "**Important Observations Google Play dataset**:\n",
    "* `Family` Category and `Tools` Genre have highest frequency with 18.89% and 8.455 respectively.\n",
    "* `Tools`, `Entertainment` and `Education` are top 3 without much difference unlike iOS where Games was a clear dominating genre.\n",
    "* Here, `Game` category has second highest frequency\n",
    "* Another difference observed from the iOS apps is that for PlayStore apps, there is a balance of practical and entertainment apps existing.\n",
    " \n",
    "___\n",
    "Now, we will investigate the number of users using the apps in these genres. We can find the number of users using `Installs` column of the Google Play dataset that gives us the number of users who installed the app. As we don't have such a column for iOS apps, we will use `ratings` that gives us the number of users giving ratings to the app in App store dataset."
   ]
  },
  {
   "cell_type": "markdown",
   "metadata": {},
   "source": [
    "### Most popular apps by genre on app store"
   ]
  },
  {
   "cell_type": "code",
   "execution_count": 25,
   "metadata": {
    "collapsed": false
   },
   "outputs": [
    {
     "name": "stdout",
     "output_type": "stream",
     "text": [
      "Genre : Education\n",
      "Average Ratings 7003.983050847458\n",
      "\n",
      "\n",
      "Genre : Catalogs\n",
      "Average Ratings 4004.0\n",
      "\n",
      "\n",
      "Genre : Business\n",
      "Average Ratings 7491.117647058823\n",
      "\n",
      "\n",
      "Genre : Productivity\n",
      "Average Ratings 21028.410714285714\n",
      "\n",
      "\n",
      "Genre : Book\n",
      "Average Ratings 39758.5\n",
      "\n",
      "\n",
      "Genre : Weather\n",
      "Average Ratings 52279.892857142855\n",
      "\n",
      "\n",
      "Genre : News\n",
      "Average Ratings 21248.023255813954\n",
      "\n",
      "\n",
      "Genre : Sports\n",
      "Average Ratings 23008.898550724636\n",
      "\n",
      "\n",
      "Genre : Navigation\n",
      "Average Ratings 86090.33333333333\n",
      "\n",
      "\n",
      "Genre : Entertainment\n",
      "Average Ratings 14029.830708661417\n",
      "\n",
      "\n",
      "Genre : Medical\n",
      "Average Ratings 612.0\n",
      "\n",
      "\n",
      "Genre : Finance\n",
      "Average Ratings 31467.944444444445\n",
      "\n",
      "\n",
      "Genre : Shopping\n",
      "Average Ratings 26919.690476190477\n",
      "\n",
      "\n",
      "Genre : Travel\n",
      "Average Ratings 28243.8\n",
      "\n",
      "\n",
      "Genre : Reference\n",
      "Average Ratings 74942.11111111111\n",
      "\n",
      "\n",
      "Genre : Utilities\n",
      "Average Ratings 18684.456790123455\n",
      "\n",
      "\n",
      "Genre : Music\n",
      "Average Ratings 57326.530303030304\n",
      "\n",
      "\n",
      "Genre : Games\n",
      "Average Ratings 22788.6696905016\n",
      "\n",
      "\n",
      "Genre : Lifestyle\n",
      "Average Ratings 16485.764705882353\n",
      "\n",
      "\n",
      "Genre : Health & Fitness\n",
      "Average Ratings 23298.015384615384\n",
      "\n",
      "\n",
      "Genre : Social Networking\n",
      "Average Ratings 71548.34905660378\n",
      "\n",
      "\n",
      "Genre : Food & Drink\n",
      "Average Ratings 33333.92307692308\n",
      "\n",
      "\n",
      "Genre : Photo & Video\n",
      "Average Ratings 28441.54375\n",
      "\n",
      "\n"
     ]
    }
   ],
   "source": [
    "#This cell will find the average ratings present(we relate that to users) of each genre for iOS apps\n",
    "unique_genres = [genre for genre in freq_table(free_apps_apple, 11)]\n",
    "for genre in unique_genres:\n",
    "    total = 0 #the sum of user ratings\n",
    "    len_genre = 0 #number of apps specific to each genre\n",
    "    for app in free_apps_apple:\n",
    "        genre_app = app[11]\n",
    "        #print(app)\n",
    "        if genre_app == genre:\n",
    "            total = total + float(app[5])\n",
    "            len_genre += 1\n",
    "    \n",
    "    average_users = total/len_genre\n",
    "    print(\"Genre :\", genre)\n",
    "    print(\"Average Ratings\", average_users)\n",
    "    print(\"\\n\")"
   ]
  },
  {
   "cell_type": "markdown",
   "metadata": {},
   "source": [
    "It can be observed that `Navigation` apps have highest number of user reviews(86090), however, this can be attributed to Google Maps as they dominate this category. Similary, for `Social Networking`, the number of reviews are high but this market is also dominated by players like Watsapp, Facebook, Instagram etc.\n",
    "\n",
    "Therefore, to make apps in these domain despite of high user attraction is a risk as there are already very strong and stable players. Alternately, we can see that `Reference` and `Books` has good reviews (~70,000 and 30,000 respectively). Although, there are few strong players like Kindle, the app market in this genre can be explored further as users are shifting towards using online books rather than traditional stores.\n",
    "\n",
    "### Most Popular Apps by Genre on Google Play\n",
    "We are using `installs` column that is currently in string format and will be converted to integer so that we can find average number of installs. "
   ]
  },
  {
   "cell_type": "code",
   "execution_count": 26,
   "metadata": {
    "collapsed": false
   },
   "outputs": [
    {
     "name": "stdout",
     "output_type": "stream",
     "text": [
      "1,000,000+ : 15.728308699086089\n",
      "100,000+ : 11.553650005641432\n",
      "10,000,000+ : 10.549475346947986\n",
      "10,000+ : 10.199706645605325\n",
      "1,000+ : 8.394448832223851\n",
      "100+ : 6.916393997517771\n",
      "5,000,000+ : 6.826131106848697\n",
      "500,000+ : 5.562450637481666\n",
      "50,000+ : 4.77265034412727\n",
      "5,000+ : 4.5131445334536835\n",
      "10+ : 3.542818458761142\n",
      "500+ : 3.2494640640866526\n",
      "50,000,000+ : 2.3017037120613786\n",
      "100,000,000+ : 2.1324607920568655\n",
      "50+ : 1.9180864267178157\n",
      "5+ : 0.7898002933543947\n",
      "1+ : 0.5077287600135394\n",
      "500,000,000+ : 0.270788672007221\n",
      "1,000,000,000+ : 0.2256572266726842\n",
      "0+ : 0.04513144533453684\n"
     ]
    }
   ],
   "source": [
    "#show the freq dist of installs column\n",
    "display_table(free_apps_play, 5)"
   ]
  },
  {
   "cell_type": "code",
   "execution_count": 28,
   "metadata": {
    "collapsed": false
   },
   "outputs": [
    {
     "name": "stdout",
     "output_type": "stream",
     "text": [
      "App Genre: PARENTING\n",
      "Average installs 542603.6206896552\n",
      "\n",
      "\n",
      "App Genre: TOOLS\n",
      "Average installs 10801391.298666667\n",
      "\n",
      "\n",
      "App Genre: COMICS\n",
      "Average installs 817657.2727272727\n",
      "\n",
      "\n",
      "App Genre: FINANCE\n",
      "Average installs 1387692.475609756\n",
      "\n",
      "\n",
      "App Genre: BEAUTY\n",
      "Average installs 513151.88679245283\n",
      "\n",
      "\n",
      "App Genre: AUTO_AND_VEHICLES\n",
      "Average installs 647317.8170731707\n",
      "\n",
      "\n",
      "App Genre: MAPS_AND_NAVIGATION\n",
      "Average installs 4056941.7741935486\n",
      "\n",
      "\n",
      "App Genre: VIDEO_PLAYERS\n",
      "Average installs 24727872.452830188\n",
      "\n",
      "\n",
      "App Genre: GAME\n",
      "Average installs 15588015.603248259\n",
      "\n",
      "\n",
      "App Genre: SOCIAL\n",
      "Average installs 23253652.127118643\n",
      "\n",
      "\n",
      "App Genre: ENTERTAINMENT\n",
      "Average installs 11640705.88235294\n",
      "\n",
      "\n",
      "App Genre: BUSINESS\n",
      "Average installs 1712290.1474201474\n",
      "\n",
      "\n",
      "App Genre: FAMILY\n",
      "Average installs 3697848.1731343283\n",
      "\n",
      "\n",
      "App Genre: SHOPPING\n",
      "Average installs 7036877.311557789\n",
      "\n",
      "\n",
      "App Genre: HEALTH_AND_FITNESS\n",
      "Average installs 4188821.9853479853\n",
      "\n",
      "\n",
      "App Genre: HOUSE_AND_HOME\n",
      "Average installs 1331540.5616438356\n",
      "\n",
      "\n",
      "App Genre: EVENTS\n",
      "Average installs 253542.22222222222\n",
      "\n",
      "\n",
      "App Genre: SPORTS\n",
      "Average installs 3638640.1428571427\n",
      "\n",
      "\n",
      "App Genre: LIBRARIES_AND_DEMO\n",
      "Average installs 638503.734939759\n",
      "\n",
      "\n",
      "App Genre: FOOD_AND_DRINK\n",
      "Average installs 1924897.7363636363\n",
      "\n",
      "\n",
      "App Genre: TRAVEL_AND_LOCAL\n",
      "Average installs 13984077.710144928\n",
      "\n",
      "\n",
      "App Genre: ART_AND_DESIGN\n",
      "Average installs 1986335.0877192982\n",
      "\n",
      "\n",
      "App Genre: WEATHER\n",
      "Average installs 5074486.197183099\n",
      "\n",
      "\n",
      "App Genre: DATING\n",
      "Average installs 854028.8303030303\n",
      "\n",
      "\n",
      "App Genre: NEWS_AND_MAGAZINES\n",
      "Average installs 9549178.467741935\n",
      "\n",
      "\n",
      "App Genre: PRODUCTIVITY\n",
      "Average installs 16787331.344927534\n",
      "\n",
      "\n",
      "App Genre: PERSONALIZATION\n",
      "Average installs 5201482.6122448975\n",
      "\n",
      "\n",
      "App Genre: EDUCATION\n",
      "Average installs 1833495.145631068\n",
      "\n",
      "\n",
      "App Genre: PHOTOGRAPHY\n",
      "Average installs 17840110.40229885\n",
      "\n",
      "\n",
      "App Genre: COMMUNICATION\n",
      "Average installs 38456119.167247385\n",
      "\n",
      "\n",
      "App Genre: LIFESTYLE\n",
      "Average installs 1437816.2687861272\n",
      "\n",
      "\n",
      "App Genre: BOOKS_AND_REFERENCE\n",
      "Average installs 8767811.894736841\n",
      "\n",
      "\n",
      "App Genre: MEDICAL\n",
      "Average installs 120550.61980830671\n",
      "\n",
      "\n"
     ]
    }
   ],
   "source": [
    "#installs are currently in string, replace + and , to \"\" and convert to int \n",
    "unique_category = [cat for cat in freq_table(free_apps_play, 1)]\n",
    "for cat in unique_category:\n",
    "    total = 0\n",
    "    len_cat = 0\n",
    "    for app in free_apps_play:\n",
    "        category_app = app[1]\n",
    "        if category_app == cat:\n",
    "            num_installs = app[5]\n",
    "            num_installs = num_installs.replace('+','')\n",
    "            num_installs = num_installs.replace(',','')\n",
    "            num_installs = int(num_installs)\n",
    "            total = total + num_installs\n",
    "            len_cat += 1\n",
    "    average = total/len_cat\n",
    "    print(\"App Genre:\", cat)\n",
    "    print(\"Average installs\", average)\n",
    "    print(\"\\n\")"
   ]
  },
  {
   "cell_type": "markdown",
   "metadata": {
    "collapsed": true
   },
   "source": [
    "As per the above insights, we observe that `Communication` profile apps have maximum number of installs(38456119) while `Social`, `Gaming` and `Video Players` follow closely. Also, `Video Players` have high number of installs. However, that can be mainly attributed to Youtube.  \n",
    "\n",
    "___\n",
    "\n",
    "### Conclusion\n",
    "\n",
    "I would recommend that `Books and Reference` has a potential app market. The number of installs are less(8767811) relative to other genres, however, the number of user ratings for `References` are quite high (74942). \n",
    "\n",
    "Only 0.55% iOS apps are of Reference category and 0.4% of Books category. In PlayStore as well the distribution is just 2.14%. It seems that the availability of apps is less, however, demand is more as more users are installing and rating apps. Thus, the company should develop apps that bring more books to the users device."
   ]
  }
 ],
 "metadata": {
  "kernelspec": {
   "display_name": "Python 3",
   "language": "python",
   "name": "python3"
  },
  "language_info": {
   "codemirror_mode": {
    "name": "ipython",
    "version": 3
   },
   "file_extension": ".py",
   "mimetype": "text/x-python",
   "name": "python",
   "nbconvert_exporter": "python",
   "pygments_lexer": "ipython3",
   "version": "3.4.3"
  }
 },
 "nbformat": 4,
 "nbformat_minor": 2
}
